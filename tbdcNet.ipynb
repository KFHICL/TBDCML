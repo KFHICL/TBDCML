{
  "nbformat": 4,
  "nbformat_minor": 0,
  "metadata": {
    "colab": {
      "provenance": []
    },
    "kernelspec": {
      "name": "python3",
      "display_name": "Python 3"
    },
    "language_info": {
      "name": "python"
    }
  },
  "cells": [
    {
      "cell_type": "markdown",
      "source": [
        "# Tow-Based Discontinuous Composite (TBDC) property predictor\n",
        "This code is written for an MSc research project at Imperial College London"
      ],
      "metadata": {
        "id": "6WRTqatANXtY"
      }
    },
    {
      "cell_type": "markdown",
      "source": [
        "## Mount drive"
      ],
      "metadata": {
        "id": "9ZSQj-VW6z8I"
      }
    },
    {
      "cell_type": "code",
      "source": [
        "# Data to be imported from google drive\n",
        "from google.colab import drive\n",
        "drive.mount('/content/drive')\n",
        "\n",
        "# Set path for drive with datasets\n",
        "drive_path =\"/content/drive/MyDrive/Individual_project_ICL\""
      ],
      "metadata": {
        "colab": {
          "base_uri": "https://localhost:8080/"
        },
        "id": "kh9VEJVE6xgR",
        "outputId": "4f07a672-70d1-4c6d-cab3-5bbfa058d37e"
      },
      "execution_count": 1,
      "outputs": [
        {
          "output_type": "stream",
          "name": "stdout",
          "text": [
            "Mounted at /content/drive\n"
          ]
        }
      ]
    },
    {
      "cell_type": "markdown",
      "source": [
        "## Imports and installs"
      ],
      "metadata": {
        "id": "5uTIclYd7cQq"
      }
    },
    {
      "cell_type": "code",
      "source": [
        "import sys\n",
        "!{sys.executable} -m pip install tensorflow\n",
        "!{sys.executable} -m pip install matplotlib\n",
        "!{sys.executable} -m pip install pandas"
      ],
      "metadata": {
        "id": "hiF8_uHZ6wkb"
      },
      "execution_count": null,
      "outputs": []
    },
    {
      "cell_type": "code",
      "source": [
        "import os\n",
        "import random\n",
        "import time\n",
        "import math\n",
        "import datetime\n",
        "import shutil\n",
        "\n",
        "import tensorflow as tf\n",
        "\n",
        "import numpy as np\n",
        "import matplotlib.pyplot as plt\n",
        "import pandas as pd\n"
      ],
      "metadata": {
        "id": "T8TeyIOX7mI2"
      },
      "execution_count": 3,
      "outputs": []
    },
    {
      "cell_type": "markdown",
      "source": [
        "## Import data\n"
      ],
      "metadata": {
        "id": "8EME7e-h8Zbd"
      }
    },
    {
      "cell_type": "code",
      "source": [
        "# Read data from txt file in format \"parameter:value\"\\n e.g. N_t:[8, 8]\\n\n",
        "with open(drive_path + '/DatDump.txt') as f:\n",
        "    dat = f.read()\n",
        "dat = dat.splitlines() # split into string array by linebreaks\n",
        "\n",
        "namesToLoad = ['theta_t', 'failure_factors'] # set variables to load\n",
        "datDict = {} # create dictionary to store data, for easier debugging\n",
        "\n",
        "for n in namesToLoad: # For each variable to be loaded\n",
        "    paramStr = [match for match in dat if n+':' in match] # find all string array entries with the given parameter name (use \":\" to ensure only the actual variable is taken)\n",
        "    varname = paramStr[0].split(':')[0] # Set variable name for dictionary\n",
        "    datDict[varname] = paramStr[0].split(':')[-1] # assign key and value for parameter in dictionary\n",
        "# np.array()\n",
        "theta_t = datDict['theta_t'] # Angle of each ply in laminate\n",
        "failure_factors = datDict['failure_factors'] #\n",
        "\n",
        "failure_factors = np.array(list(failure_factors), dtype=float)\n",
        "print(failure_factors)"
      ],
      "metadata": {
        "id": "XFZSfkqD8p5r",
        "outputId": "c238f8a7-0efd-4c76-9c85-e23585927a89",
        "colab": {
          "base_uri": "https://localhost:8080/",
          "height": 228
        }
      },
      "execution_count": 45,
      "outputs": [
        {
          "output_type": "error",
          "ename": "ValueError",
          "evalue": "ignored",
          "traceback": [
            "\u001b[0;31m---------------------------------------------------------------------------\u001b[0m",
            "\u001b[0;31mValueError\u001b[0m                                Traceback (most recent call last)",
            "\u001b[0;32m<ipython-input-45-9569f70a7bcd>\u001b[0m in \u001b[0;36m<cell line: 17>\u001b[0;34m()\u001b[0m\n\u001b[1;32m     15\u001b[0m \u001b[0mfailure_factors\u001b[0m \u001b[0;34m=\u001b[0m \u001b[0mdatDict\u001b[0m\u001b[0;34m[\u001b[0m\u001b[0;34m'failure_factors'\u001b[0m\u001b[0;34m]\u001b[0m \u001b[0;31m#\u001b[0m\u001b[0;34m\u001b[0m\u001b[0;34m\u001b[0m\u001b[0m\n\u001b[1;32m     16\u001b[0m \u001b[0;34m\u001b[0m\u001b[0m\n\u001b[0;32m---> 17\u001b[0;31m \u001b[0mfailure_factors\u001b[0m \u001b[0;34m=\u001b[0m \u001b[0mnp\u001b[0m\u001b[0;34m.\u001b[0m\u001b[0marray\u001b[0m\u001b[0;34m(\u001b[0m\u001b[0mlist\u001b[0m\u001b[0;34m(\u001b[0m\u001b[0mfailure_factors\u001b[0m\u001b[0;34m)\u001b[0m\u001b[0;34m,\u001b[0m \u001b[0mdtype\u001b[0m\u001b[0;34m=\u001b[0m\u001b[0mfloat\u001b[0m\u001b[0;34m)\u001b[0m\u001b[0;34m\u001b[0m\u001b[0;34m\u001b[0m\u001b[0m\n\u001b[0m\u001b[1;32m     18\u001b[0m \u001b[0mprint\u001b[0m\u001b[0;34m(\u001b[0m\u001b[0mfailure_factors\u001b[0m\u001b[0;34m)\u001b[0m\u001b[0;34m\u001b[0m\u001b[0;34m\u001b[0m\u001b[0m\n",
            "\u001b[0;31mValueError\u001b[0m: could not convert string to float: '['"
          ]
        }
      ]
    },
    {
      "cell_type": "code",
      "source": [
        "datDict[varname]"
      ],
      "metadata": {
        "id": "Sg_quPqr9Rqu",
        "outputId": "c3d2e546-22e7-41de-f680-3c8579923f7c",
        "colab": {
          "base_uri": "https://localhost:8080/",
          "height": 70
        }
      },
      "execution_count": 44,
      "outputs": [
        {
          "output_type": "execute_result",
          "data": {
            "text/plain": [
              "'[308.8, 668.6, 2718.4, 105.8, 554.6, 338.2, 523.6, 130.8, 1516.2, 277.8, 35.8, 250.4, 363.4, 163.0, 694.2, 38.4, 586.2, 56.4, 223.0, 39.4, 702.8, 402.0, 47.4, 49.8, 615.4, 77.4, 770.2, 489.2, 557.4, 436.2, 997.0, 461.6, 36.6, 627.4, 429.8, 27.8, 219.4, 441.6, 38.8, 28.4, 105.2, 38.2, 263.2, 336.8, 51.8, 644.6, 56.8, 122.8, 971.2, 431.6]'"
            ],
            "application/vnd.google.colaboratory.intrinsic+json": {
              "type": "string"
            }
          },
          "metadata": {},
          "execution_count": 44
        }
      ]
    }
  ]
}