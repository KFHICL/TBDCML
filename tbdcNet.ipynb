{
  "nbformat": 4,
  "nbformat_minor": 0,
  "metadata": {
    "colab": {
      "provenance": []
    },
    "kernelspec": {
      "name": "python3",
      "display_name": "Python 3"
    },
    "language_info": {
      "name": "python"
    }
  },
  "cells": [
    {
      "cell_type": "markdown",
      "source": [
        "# Tow-Based Discontinuous Composite (TBDC) property predictor\n",
        "This code is written for an MSc research project at Imperial College London"
      ],
      "metadata": {
        "id": "6WRTqatANXtY"
      }
    }
  ]
}