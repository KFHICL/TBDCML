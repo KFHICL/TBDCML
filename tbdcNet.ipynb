{
  "nbformat": 4,
  "nbformat_minor": 0,
  "metadata": {
    "colab": {
      "provenance": []
    },
    "kernelspec": {
      "name": "python3",
      "display_name": "Python 3"
    },
    "language_info": {
      "name": "python"
    }
  },
  "cells": [
    {
      "cell_type": "markdown",
      "source": [
        "# Tow-Based Discontinuous Composite (TBDC) property predictor\n",
        "This code is written for an MSc research project at Imperial College London"
      ],
      "metadata": {
        "id": "6WRTqatANXtY"
      }
    },
    {
      "cell_type": "markdown",
      "source": [
        "## Mount drive"
      ],
      "metadata": {
        "id": "9ZSQj-VW6z8I"
      }
    },
    {
      "cell_type": "code",
      "source": [
        "# Data to be imported from google drive\n",
        "from google.colab import drive\n",
        "drive.mount('/content/drive')\n",
        "\n",
        "# Set path for drive with datasets\n",
        "drive_path =\"/content/drive/MyDrive/Individual_project_ICL\""
      ],
      "metadata": {
        "colab": {
          "base_uri": "https://localhost:8080/"
        },
        "id": "kh9VEJVE6xgR",
        "outputId": "759d3116-1756-4fef-e341-9496bbceb8ff"
      },
      "execution_count": 35,
      "outputs": [
        {
          "output_type": "stream",
          "name": "stdout",
          "text": [
            "Mounted at /content/drive\n"
          ]
        }
      ]
    },
    {
      "cell_type": "markdown",
      "source": [
        "## Imports and installs"
      ],
      "metadata": {
        "id": "5uTIclYd7cQq"
      }
    },
    {
      "cell_type": "code",
      "source": [
        "import sys\n",
        "!{sys.executable} -m pip install tensorflow\n",
        "!{sys.executable} -m pip install matplotlib\n",
        "!{sys.executable} -m pip install pandas"
      ],
      "metadata": {
        "id": "hiF8_uHZ6wkb"
      },
      "execution_count": null,
      "outputs": []
    },
    {
      "cell_type": "code",
      "source": [
        "import os\n",
        "import random\n",
        "import time\n",
        "import math\n",
        "import datetime\n",
        "import shutil\n",
        "import json\n",
        "\n",
        "import tensorflow as tf\n",
        "\n",
        "import numpy as np\n",
        "import matplotlib.pyplot as plt\n",
        "import pandas as pd\n"
      ],
      "metadata": {
        "id": "T8TeyIOX7mI2"
      },
      "execution_count": 6,
      "outputs": []
    },
    {
      "cell_type": "markdown",
      "source": [
        "## Import data\n"
      ],
      "metadata": {
        "id": "8EME7e-h8Zbd"
      }
    },
    {
      "cell_type": "code",
      "source": [
        "# Read data from json file in google drive\n",
        "dataPath = os.path.join(drive_path,'dataDumpTest.json')\n",
        "\n",
        "with open(dataPath) as json_file: # load into dict\n",
        "    dat = json.load(json_file)\n",
        "\n",
        "params = list(dat.keys()) # get list of parameters in file\n",
        "print(params)\n",
        "\n",
        "\n",
        "\n",
        "# # Read data from txt file in format \"parameter:value\"\\n e.g. N_t:[8, 8]\\n\n",
        "# with open(drive_path + '/datDumpTest.json') as f:\n",
        "#     dat = f.read()\n",
        "# dat = dat.splitlines() # split into string array by linebreaks\n",
        "\n",
        "# namesToLoad = ['theta_t', 'failure_factors'] # set variables to load\n",
        "# datDict = {} # create dictionary to store data, for easier debugging\n",
        "\n",
        "# for n in namesToLoad: # For each variable to be loaded\n",
        "#     paramStr = [match for match in dat if n+':' in match] # find all string array entries with the given parameter name (use \":\" to ensure only the actual variable is taken)\n",
        "#     varname = paramStr[0].split(':')[0] # Set variable name for dictionary\n",
        "#     datDict[varname] = paramStr[0].split(':')[-1] # assign key and value for parameter in dictionary\n",
        "# # np.array()\n",
        "# theta_t = datDict['theta_t'] # Angle of each ply in laminate\n",
        "# failure_factors = datDict['failure_factors'] #\n",
        "\n",
        "# failure_factors = np.array(list(failure_factors), dtype=float)\n",
        "# print(failure_factors)"
      ],
      "metadata": {
        "colab": {
          "base_uri": "https://localhost:8080/"
        },
        "id": "XFZSfkqD8p5r",
        "outputId": "a04c04bc-4201-417b-f847-b4d50d723961"
      },
      "execution_count": 36,
      "outputs": [
        {
          "output_type": "stream",
          "name": "stdout",
          "text": [
            "['theta_t', 'Q_g', 'overlap_lengths', 'overlap_thicknesses', 'sigma_l', 'failure_factors']\n"
          ]
        }
      ]
    },
    {
      "cell_type": "code",
      "source": [
        "theta_t = np.array(dat['theta_t'])\n",
        "Q_g = np.array(dat['Q_g'])\n",
        "overlap_lengths = np.array(dat['overlap_lengths'])\n",
        "overlap_thicknesses = np.array(dat['overlap_thicknesses'])\n",
        "sigma_l = np.array(dat['sigma_l'])\n",
        "failure_factors = np.array(dat['failure_factors'])"
      ],
      "metadata": {
        "id": "Sg_quPqr9Rqu"
      },
      "execution_count": 37,
      "outputs": []
    },
    {
      "cell_type": "code",
      "source": [
        "theta_t"
      ],
      "metadata": {
        "id": "U-ajbrz896M6",
        "outputId": "2c75fea8-07d0-4a63-a5eb-053da6216a84",
        "colab": {
          "base_uri": "https://localhost:8080/"
        }
      },
      "execution_count": 38,
      "outputs": [
        {
          "output_type": "execute_result",
          "data": {
            "text/plain": [
              "array([[ 0.11242025,  1.38040184,  0.75478414, -0.49195673,  0.94975915,\n",
              "        -1.55676126, -0.27682871, -0.27787572],\n",
              "       [-0.80557676, -0.2776038 , -0.10155421,  0.3015842 ,  1.34131826,\n",
              "        -1.54408707,  0.58415655,  0.45935336],\n",
              "       [-0.26237673,  0.10008502, -1.32332291, -0.01149989, -1.02529069,\n",
              "         1.41184624,  0.88175597,  0.38931997],\n",
              "       [-1.14274662,  0.41468062,  0.76140174,  1.01868181,  0.60049487,\n",
              "        -1.55242157, -1.38890227,  0.00460712],\n",
              "       [ 1.43882036, -0.6394743 , -1.36952088, -0.53373687, -0.88292747,\n",
              "        -1.31944733, -0.95899611, -1.32360155],\n",
              "       [-0.44571237, -0.34913086, -0.46934769, -0.71424056, -0.5286414 ,\n",
              "         0.60033129,  1.45541765, -0.15200357],\n",
              "       [ 1.22033729, -0.82586065,  0.66475885, -1.31163401,  0.45431579,\n",
              "         1.13882897, -1.27079639, -0.49311739],\n",
              "       [ 0.17182728,  1.38758495, -0.46217544,  0.661181  , -1.20044883,\n",
              "        -0.06609314,  0.18638871,  0.98601462],\n",
              "       [-0.53766235,  1.44415708, -0.14509872,  0.43291338,  0.75987224,\n",
              "        -1.09708339, -0.52002723,  1.05455465],\n",
              "       [ 0.97675668,  0.66079679, -0.91263284, -0.78147578,  0.69481144,\n",
              "         0.32326963,  0.82551105,  0.25850647],\n",
              "       [-0.54071215,  1.08284916, -0.7234078 ,  0.08246593, -0.51823827,\n",
              "        -0.01821984, -1.40208584,  1.34753043],\n",
              "       [-0.39544883, -1.16876191,  0.14803221,  0.73693943,  0.50872286,\n",
              "        -1.05521684, -0.2393039 , -0.36180311],\n",
              "       [-0.57944711,  1.48092597, -0.99530477,  0.82088362, -0.59721099,\n",
              "         1.11508725, -0.94812906,  1.23690205],\n",
              "       [ 0.67260908,  0.35155593, -1.1892739 , -0.34064465,  0.07046283,\n",
              "        -1.21607502, -0.80181196,  1.48507231],\n",
              "       [-0.18785381,  0.1200386 ,  0.77981467, -0.7491146 , -1.28327799,\n",
              "        -1.37064548,  1.50885124,  0.31424594],\n",
              "       [ 0.36891885, -0.3935338 ,  0.61866747, -1.41980873,  0.71064977,\n",
              "         0.47270587, -1.04590837, -1.11702117],\n",
              "       [ 0.97528517, -1.0396389 ,  1.24410718, -0.17158321,  1.47821793,\n",
              "         0.10884365,  0.77457679, -0.54141725],\n",
              "       [-0.97710399, -0.42298009, -0.00165348,  0.34555911, -0.6261271 ,\n",
              "         0.9004987 , -0.52512011, -1.39813584],\n",
              "       [-1.28690091,  1.49758473, -0.56269727, -0.90746052,  1.10379858,\n",
              "         1.37414337,  0.35286787,  0.32308996],\n",
              "       [-0.54659573,  0.50115108,  1.28973139,  1.35185188,  1.29874694,\n",
              "        -0.51578241, -1.41911125, -0.74158496],\n",
              "       [ 0.41087508,  0.57236893,  0.89885435,  0.57694259, -0.7678178 ,\n",
              "         0.55435109, -0.84891073, -0.633891  ],\n",
              "       [ 1.18645824, -1.14382073, -0.00188733,  0.25718796,  0.3624135 ,\n",
              "         1.23372811, -0.00501377,  1.420363  ],\n",
              "       [-0.45869451, -0.62847655, -1.30919642,  0.55531842, -0.82153839,\n",
              "        -1.21039743,  1.27999898, -0.91469156],\n",
              "       [ 0.53336786,  0.70205013,  0.47422473, -0.91668799,  0.12506716,\n",
              "         0.57824825,  1.47004643, -1.2356837 ],\n",
              "       [ 0.95628551,  0.9583422 ,  0.74456604,  0.95163045, -0.23884739,\n",
              "        -1.10095539, -0.678158  , -1.44082664],\n",
              "       [-1.24412283,  0.18893915, -0.36104509,  1.06971501, -1.30907379,\n",
              "         0.14276452,  1.54857594, -1.15707994],\n",
              "       [-1.35718895,  0.03152279, -1.14251901,  0.25872073,  1.49881531,\n",
              "        -0.97923002,  0.19056445, -0.70478019],\n",
              "       [ 0.9544176 , -0.75285958,  1.56729293,  0.2868831 ,  1.42854831,\n",
              "         1.1036241 ,  0.04107232, -0.11868199],\n",
              "       [ 0.96690553, -0.65134864, -0.04178414, -1.29505725, -0.80561763,\n",
              "         0.30681471,  0.04895529, -0.09143717],\n",
              "       [ 0.67892085, -0.39321274, -0.17210006,  1.47371114,  1.5655137 ,\n",
              "        -0.38481324, -0.91560681, -1.52858646],\n",
              "       [ 0.4161089 , -1.03042457, -0.29812404,  1.39504434,  0.81238088,\n",
              "        -0.21939623, -0.16528404, -1.53081972],\n",
              "       [-1.1691683 , -1.33553912,  0.37912953,  0.61183564,  0.38175748,\n",
              "        -0.24050822, -0.34707569,  1.21726202],\n",
              "       [ 0.73676562, -0.63043848, -0.1095965 ,  0.93948872,  0.43302494,\n",
              "         0.97438545, -1.20031328,  0.37796008],\n",
              "       [-0.88730505, -0.20278495, -1.18960612, -0.74557132, -1.29848408,\n",
              "         0.14518197,  0.17076589, -1.01401497],\n",
              "       [ 1.31915662,  1.10708734, -0.36149496, -0.74521322,  1.34054116,\n",
              "         0.69646977,  1.0758439 , -0.22254102],\n",
              "       [-0.62324847, -0.78712286, -0.45228583, -0.71644306, -0.85098882,\n",
              "        -1.50970837,  0.40521992,  0.70146905],\n",
              "       [-1.46290453,  0.97697724,  1.0237212 , -0.57550739,  0.49519272,\n",
              "         0.6528225 ,  0.9929541 ,  1.29304098],\n",
              "       [ 1.37552758,  0.02018917, -0.7079227 ,  1.18817184,  0.14490355,\n",
              "        -0.88046978,  0.50235867, -0.33020451],\n",
              "       [ 1.22491488,  0.34423353,  1.24554041,  1.50601013, -0.06024716,\n",
              "         0.87469828,  0.06361008, -1.4412135 ],\n",
              "       [ 0.1094043 , -0.18693994, -0.32290906,  0.90402244, -0.7280954 ,\n",
              "         0.33887869,  0.90788663, -0.35543256],\n",
              "       [ 0.78181568,  1.19078329,  0.58041551,  1.17720924,  0.8807526 ,\n",
              "        -0.6133052 ,  0.9577335 ,  0.63369465],\n",
              "       [ 0.14831939,  1.50134077,  0.99789268, -0.79518674,  1.52459818,\n",
              "         1.25194941,  1.54589   ,  1.40116768],\n",
              "       [-1.09790239,  0.97472258,  0.79419146, -1.38757318, -0.14984439,\n",
              "        -1.35559974,  0.26648388,  0.73424314],\n",
              "       [ 1.26648505, -0.90632405,  0.29694517,  0.96545411, -0.25912383,\n",
              "         1.16118493,  1.41209277,  0.95717433],\n",
              "       [-0.37470196,  1.4209076 , -0.7424115 ,  1.35801582, -1.40119106,\n",
              "        -0.3990434 , -1.23565141, -0.62699484],\n",
              "       [-1.06495102,  1.19770246, -0.35386008, -0.09127373,  0.3297567 ,\n",
              "        -0.26673212,  0.47735322,  0.08901999],\n",
              "       [-1.33440544, -0.4331439 , -0.35933059, -1.31181271, -0.46763207,\n",
              "         0.11373273,  0.05773439,  0.81916384],\n",
              "       [-1.23183632, -1.48512032, -0.11131543,  1.314264  , -0.46495131,\n",
              "        -0.90767866, -0.02121494, -1.14913411],\n",
              "       [-0.9371143 , -1.19947638, -0.70917798,  0.52313815, -1.16230899,\n",
              "        -1.04779338, -1.38893719,  1.17633266],\n",
              "       [ 0.17986657,  0.91635411,  1.52088388,  0.07869638, -1.47745932,\n",
              "        -1.40351922,  1.45251954, -0.25067342]])"
            ]
          },
          "metadata": {},
          "execution_count": 38
        }
      ]
    }
  ]
}